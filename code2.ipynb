{
 "cells": [
  {
   "cell_type": "markdown",
   "metadata": {},
   "source": [
    "1. NCC Algorithm with match window"
   ]
  },
  {
   "cell_type": "markdown",
   "metadata": {},
   "source": [
    "2. SSD Algorithm"
   ]
  },
  {
   "cell_type": "code",
   "execution_count": 3,
   "metadata": {},
   "outputs": [
    {
     "name": "stdout",
     "output_type": "stream",
     "text": [
      "................"
     ]
    }
   ],
   "source": [
    "def dmap_ssd(left_img, right_img, kernel, max_offset):\n",
    "    # Load in both images, assumed to be RGBA 8bit per channel images\n",
    "    left_img = cv2.imread(left_img,cv2.IMREAD_GRAYSCALE)\n",
    "    left = np.asarray(left_img)\n",
    "    right_img = cv2.imread(right_img,cv2.IMREAD_GRAYSCALE)\n",
    "    right = np.asarray(right_img)    \n",
    "    height, width = left_img.shape # assume that both images are same size   \n",
    "    # Depth (or disparity) map\n",
    "    depth = np.zeros((width, height), np.uint8)\n",
    "    depth.shape = height, width\n",
    "       \n",
    "    kernel_half = int(kernel / 2)    \n",
    "    # offset_adjust = 255 / max_offset  # this is used to map depth map output to 0-255 range\n",
    "      \n",
    "    for y in range(kernel_half, height - kernel_half):      \n",
    "        print(\".\", end=\"\", flush=True)  # let the user know that something is happening (slowly!)\n",
    "        \n",
    "        for x in range(kernel_half, width - kernel_half):\n",
    "            best_offset = 0\n",
    "            prev_ssd = 65534\n",
    "\n",
    "            print(\"\\rCurrentHeight:{} CuurentWidth:{}\".format(y,x),end=\"\")\n",
    "            \n",
    "            for offset in range(max_offset):               \n",
    "                ssd = 0\n",
    "                ssd_temp = 0                            \n",
    "                \n",
    "                # v and u are the x,y of our local window search, used to ensure a good \n",
    "                # match- going by the squared differences of two pixels alone is insufficient, \n",
    "                # we want to go by the squared differences of the neighbouring pixels too\n",
    "                for v in range(-kernel_half, kernel_half):\n",
    "                    for u in range(-kernel_half, kernel_half):\n",
    "                        # iteratively sum the sum of squared differences value for this block\n",
    "                        # left[] and right[] are arrays of uint8, so converting them to int saves\n",
    "                        # potential overflow, and executes a lot faster \n",
    "                        ssd_temp = int(left[y+v, x+u]) - int(right[y+v, (x+u) - offset])  \n",
    "                        ssd += ssd_temp * ssd_temp              \n",
    "                \n",
    "                # if this value is smaller than the previous ssd at this block\n",
    "                # then it's theoretically a closer match. Store this value against\n",
    "                # this block..\n",
    "                if ssd < prev_ssd:\n",
    "                    prev_ssd = ssd\n",
    "                    best_offset = offset\n",
    "                            \n",
    "            # set depth output for this x,y location to the best match\n",
    "            depth[y, x] = best_offset #  * offset_adjust\n",
    "                                \n",
    "    # Convert to PIL and save it\n",
    "    plt.subplots(figsize=(30, 30)) \n",
    "    plt.subplot(1,2,1)\n",
    "    plt.imshow(Image.fromarray(depth), cmap='gray')\n",
    "    plt.subplot(1,2,2)\n",
    "    plt.imshow(left_img)\n",
    "    return depth\n",
    "\n",
    "disparityMap = dmap_ssd(left_images[0], right_images[0], 3, 69)"
   ]
  },
  {
   "cell_type": "markdown",
   "metadata": {},
   "source": [
    "a. The rms (root mean squared) error between the values in your disparity map and those in the ground truth"
   ]
  },
  {
   "cell_type": "code",
   "execution_count": 2,
   "metadata": {},
   "outputs": [
    {
     "ename": "NameError",
     "evalue": "name 'disparityMap' is not defined",
     "output_type": "error",
     "traceback": [
      "\u001b[1;31m---------------------------------------------------------------------------\u001b[0m",
      "\u001b[1;31mNameError\u001b[0m                                 Traceback (most recent call last)",
      "\u001b[1;32mc:\\Users\\Administrator\\Desktop\\Stereo_Disparity\\code2.ipynb Cell 6\u001b[0m in \u001b[0;36m<cell line: 12>\u001b[1;34m()\u001b[0m\n\u001b[0;32m      <a href='vscode-notebook-cell:/c%3A/Users/Administrator/Desktop/Stereo_Disparity/code2.ipynb#W5sZmlsZQ%3D%3D?line=8'>9</a>\u001b[0m     img_sim \u001b[39m=\u001b[39m img_rmse \u001b[39m/\u001b[39m \u001b[39m255\u001b[39m\n\u001b[0;32m     <a href='vscode-notebook-cell:/c%3A/Users/Administrator/Desktop/Stereo_Disparity/code2.ipynb#W5sZmlsZQ%3D%3D?line=9'>10</a>\u001b[0m     \u001b[39mreturn\u001b[39;00m img_rmse,\u001b[39m1\u001b[39m \u001b[39m-\u001b[39m img_sim\n\u001b[1;32m---> <a href='vscode-notebook-cell:/c%3A/Users/Administrator/Desktop/Stereo_Disparity/code2.ipynb#W5sZmlsZQ%3D%3D?line=11'>12</a>\u001b[0m root_mean_squared_error(groundTruth[:,:,\u001b[39m0\u001b[39m], disparityMap)\n",
      "\u001b[1;31mNameError\u001b[0m: name 'disparityMap' is not defined"
     ]
    }
   ],
   "source": [
    "groundTruth = cv2.imread(r'resources\\Dataset\\2018-07-09-16-11-56_2018-07-09-16-11-56-702-disparity.png')\n",
    "def root_mean_squared_error(img1,img2):\n",
    "    #判断两张图片的shape是否一致\n",
    "    if img1.shape != img2.shape:\n",
    "        print(\"images have different shape \")\n",
    "    #计算两张图像的MSE\n",
    "    img_rmse = np.sqrt(np.mean((img1.astype(np.float64) - img2.astype(np.float64))**2))\n",
    "    #将图像的MSE量化为相似度\n",
    "    img_sim = img_rmse / 255\n",
    "    return img_rmse,1 - img_sim\n",
    "\n",
    "root_mean_squared_error(groundTruth[:,:,0], disparityMap)"
   ]
  },
  {
   "cell_type": "markdown",
   "metadata": {},
   "source": [
    "b. The fractions of pixels with errors less than 4, 2, 1, 0.5 and 0.25 pixels"
   ]
  },
  {
   "cell_type": "code",
   "execution_count": 199,
   "metadata": {},
   "outputs": [
    {
     "name": "stderr",
     "output_type": "stream",
     "text": [
      "C:\\Users\\Administrator\\AppData\\Local\\Temp\\ipykernel_17160\\4186069593.py:12: RuntimeWarning: overflow encountered in ubyte_scalars\n",
      "  diff = abs(imgTruth[y][x] - img[y][x])\n"
     ]
    },
    {
     "name": "stdout",
     "output_type": "stream",
     "text": [
      "399 241 76 76 88149\n"
     ]
    },
    {
     "data": {
      "text/plain": [
       "(0.004526426845454855,\n",
       " 0.002734007192367469,\n",
       " 0.000862176541991401,\n",
       " 0.000862176541991401)"
      ]
     },
     "execution_count": 199,
     "metadata": {},
     "output_type": "execute_result"
    }
   ],
   "source": [
    "def get_fraction(threshhold, imgTruth, img):\n",
    "    TotalValidPixel = 0\n",
    "    lessThan4 = 0\n",
    "    lessThan2 = 0\n",
    "    lessThan0_5 = 0\n",
    "    lessThan0_25 = 0\n",
    "\n",
    "    for y in range(len(imgTruth)):\n",
    "        for x in range(len(imgTruth[0])):\n",
    "            if imgTruth[y][x] != 0:\n",
    "                TotalValidPixel+=1\n",
    "                diff = abs(imgTruth[y][x] - img[y][x])\n",
    "                if diff <= 0.25:\n",
    "                    lessThan0_25 +=1 \n",
    "                if diff <= 0.5:\n",
    "                    lessThan0_5 += 1\n",
    "                if diff <= 2:\n",
    "                    lessThan2 += 1\n",
    "                if diff <= 4:\n",
    "                    lessThan4 +=1 \n",
    "    print(lessThan4, lessThan2, lessThan0_5, lessThan0_25, TotalValidPixel)\n",
    "    return lessThan4/TotalValidPixel, lessThan2/TotalValidPixel, lessThan0_5/TotalValidPixel, lessThan0_25/TotalValidPixel\n",
    "            \n",
    "get_fraction(1,groundTruth[:,:,0], disparityMap)"
   ]
  }
 ],
 "metadata": {
  "kernelspec": {
   "display_name": "Python 3.7.13 ('tf_gpu')",
   "language": "python",
   "name": "python3"
  },
  "language_info": {
   "codemirror_mode": {
    "name": "ipython",
    "version": 3
   },
   "file_extension": ".py",
   "mimetype": "text/x-python",
   "name": "python",
   "nbconvert_exporter": "python",
   "pygments_lexer": "ipython3",
   "version": "3.7.13"
  },
  "orig_nbformat": 4,
  "vscode": {
   "interpreter": {
    "hash": "dcb43515898f68681db7fb073f02f0eb00ceebe7b72ab6a590982b8262aa38a5"
   }
  }
 },
 "nbformat": 4,
 "nbformat_minor": 2
}
